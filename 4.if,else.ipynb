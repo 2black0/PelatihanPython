{
 "cells": [
  {
   "cell_type": "markdown",
   "metadata": {},
   "source": [
    "# IF Else"
   ]
  },
  {
   "cell_type": "code",
   "execution_count": 1,
   "metadata": {},
   "outputs": [
    {
     "name": "stdout",
     "output_type": "stream",
     "text": [
      "nilai anda: 60\n"
     ]
    }
   ],
   "source": [
    "nilai = 60\n",
    "\n",
    "if nilai == 75: # equal eksplisit\n",
    "    print(\"nilai anda:\",nilai)\n",
    "\n",
    "if nilai is 60: # equal\n",
    "    print(\"nilai anda:\", nilai)\n",
    "\n",
    "if nilai is not 60: # not equal\n",
    "    print(\"nilai anda bukan: 60\")"
   ]
  },
  {
   "cell_type": "code",
   "execution_count": 2,
   "metadata": {},
   "outputs": [
    {
     "name": "stdout",
     "output_type": "stream",
     "text": [
      "nilai anda adalah C\n"
     ]
    }
   ],
   "source": [
    "nilai = 65\n",
    "\n",
    "if 80 <= nilai <= 100:\n",
    "    print(\"nilai anda adalah A\")\n",
    "elif 70 <= nilai < 80:\n",
    "    print(\"nilai anda adalah B\")\n",
    "elif 60 <= nilai < 70:\n",
    "    print(\"nilai anda adalah C\")\n",
    "elif 50 <= nilai < 60:\n",
    "    print(\"nilai anda adalah T, lakukan perbaikan\")\n",
    "else:\n",
    "    print(\"maaf anda tidak lulus mata kuliah ini\")"
   ]
  },
  {
   "cell_type": "code",
   "execution_count": 3,
   "metadata": {},
   "outputs": [
    {
     "name": "stdout",
     "output_type": "stream",
     "text": [
      "Mamang bilang, \" ya, saya jual bakwan \"\n"
     ]
    }
   ],
   "source": [
    "gorengan=[\"bakwan\",\"cireng\",\"bala-bala\",\"tahu\",\"combro\",\"pisang goreng\",\"pukis\",\"risoles\"]\n",
    "beli = \"bakwan\"\n",
    "\n",
    "if beli in gorengan:\n",
    "    print('Mamang bilang, \" ya, saya jual',beli,'\"')\n",
    "\n",
    "if not beli in gorengan:\n",
    "    print('\"saya gak jual',beli,'\"')"
   ]
  },
  {
   "cell_type": "code",
   "execution_count": 4,
   "metadata": {},
   "outputs": [
    {
     "name": "stdout",
     "output_type": "stream",
     "text": [
      "tidak ada z di bakwan\n"
     ]
    }
   ],
   "source": [
    "karakter = \"z\"\n",
    "\n",
    "if karakter in beli:\n",
    "    print(\"ada\", karakter, \"di\",beli)\n",
    "else:\n",
    "    print(\"tidak ada\",karakter,\"di\",beli)"
   ]
  },
  {
   "cell_type": "code",
   "execution_count": null,
   "metadata": {},
   "outputs": [],
   "source": []
  }
 ],
 "metadata": {
  "kernelspec": {
   "display_name": "Python 3",
   "language": "python",
   "name": "python3"
  },
  "language_info": {
   "codemirror_mode": {
    "name": "ipython",
    "version": 3
   },
   "file_extension": ".py",
   "mimetype": "text/x-python",
   "name": "python",
   "nbconvert_exporter": "python",
   "pygments_lexer": "ipython3",
   "version": "3.7.3"
  },
  "varInspector": {
   "cols": {
    "lenName": 16,
    "lenType": 16,
    "lenVar": 40
   },
   "kernels_config": {
    "python": {
     "delete_cmd_postfix": "",
     "delete_cmd_prefix": "del ",
     "library": "var_list.py",
     "varRefreshCmd": "print(var_dic_list())"
    },
    "r": {
     "delete_cmd_postfix": ") ",
     "delete_cmd_prefix": "rm(",
     "library": "var_list.r",
     "varRefreshCmd": "cat(var_dic_list()) "
    }
   },
   "types_to_exclude": [
    "module",
    "function",
    "builtin_function_or_method",
    "instance",
    "_Feature"
   ],
   "window_display": false
  }
 },
 "nbformat": 4,
 "nbformat_minor": 2
}
