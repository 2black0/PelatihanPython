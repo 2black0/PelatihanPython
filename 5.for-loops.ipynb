{
 "cells": [
  {
   "cell_type": "markdown",
   "metadata": {},
   "source": [
    "# For Loops"
   ]
  },
  {
   "cell_type": "code",
   "execution_count": 2,
   "metadata": {},
   "outputs": [
    {
     "data": {
      "text/plain": [
       "range(0, 10)"
      ]
     },
     "execution_count": 2,
     "metadata": {},
     "output_type": "execute_result"
    }
   ],
   "source": [
    "range(0, 10)"
   ]
  },
  {
   "cell_type": "code",
   "execution_count": 5,
   "metadata": {},
   "outputs": [
    {
     "name": "stdout",
     "output_type": "stream",
     "text": [
      "0\n",
      "1\n",
      "2\n",
      "3\n",
      "4\n",
      "5\n",
      "6\n",
      "7\n",
      "8\n",
      "9\n"
     ]
    }
   ],
   "source": [
    "for i in range(10):\n",
    "    print(i)"
   ]
  },
  {
   "cell_type": "code",
   "execution_count": 6,
   "metadata": {},
   "outputs": [
    {
     "name": "stdout",
     "output_type": "stream",
     "text": [
      "5\n",
      "6\n",
      "7\n",
      "8\n",
      "9\n",
      "10\n",
      "11\n",
      "12\n",
      "13\n",
      "14\n",
      "15\n",
      "16\n",
      "17\n",
      "18\n",
      "19\n"
     ]
    }
   ],
   "source": [
    "for i in range(5,20):\n",
    "    print(i)"
   ]
  },
  {
   "cell_type": "code",
   "execution_count": 6,
   "metadata": {},
   "outputs": [
    {
     "name": "stdout",
     "output_type": "stream",
     "text": [
      "bakwan\n",
      "cireng\n",
      "tahu isi\n",
      "tempe goreng\n",
      "ubi goreng\n"
     ]
    }
   ],
   "source": [
    "# list sebagai iterable\n",
    "gorengan = ['bakwan','cireng','tahu isi','tempe goreng','ubi goreng']\n",
    "\n",
    "for i in gorengan:\n",
    "    print(i)"
   ]
  },
  {
   "cell_type": "code",
   "execution_count": 2,
   "metadata": {},
   "outputs": [
    {
     "name": "stdout",
     "output_type": "stream",
     "text": [
      "b\n",
      "a\n",
      "k\n",
      "w\n",
      "a\n",
      "n\n"
     ]
    }
   ],
   "source": [
    "# string sebagai iterable\n",
    "bakwan = 'bakwan'\n",
    "\n",
    "for i in bakwan:\n",
    "    print(i)"
   ]
  },
  {
   "cell_type": "code",
   "execution_count": 8,
   "metadata": {},
   "outputs": [
    {
     "name": "stdout",
     "output_type": "stream",
     "text": [
      "subDaftarBelanja : ['bakwan', 'cireng', 'tahu isi', 'tempe goreng', 'ubi goreng']\n",
      "komponen : bakwan\n",
      "komponen : cireng\n",
      "komponen : tahu isi\n",
      "komponen : tempe goreng\n",
      "komponen : ubi goreng\n",
      "subDaftarBelanja : ['semangka', 'jeruk', 'apel', 'anggur']\n",
      "komponen : semangka\n",
      "komponen : jeruk\n",
      "komponen : apel\n",
      "komponen : anggur\n",
      "subDaftarBelanja : ['kangkung', 'wortel', 'tomat', 'kentang']\n",
      "komponen : kangkung\n",
      "komponen : wortel\n",
      "komponen : tomat\n",
      "komponen : kentang\n"
     ]
    }
   ],
   "source": [
    "# for di dalam for\n",
    "gorengan = ['bakwan','cireng','tahu isi','tempe goreng','ubi goreng']\n",
    "buah = ['semangka','jeruk','apel','anggur']\n",
    "sayur = ['kangkung','wortel','tomat','kentang']\n",
    "\n",
    "Daftar_belanja = [gorengan,buah,sayur]\n",
    "\n",
    "for subDaftarBelanja in Daftar_belanja:\n",
    "    print('subDaftarBelanja :',subDaftarBelanja)\n",
    "    for komponen in subDaftarBelanja:\n",
    "        print('komponen :', komponen)"
   ]
  },
  {
   "cell_type": "code",
   "execution_count": null,
   "metadata": {},
   "outputs": [],
   "source": []
  }
 ],
 "metadata": {
  "kernelspec": {
   "display_name": "Python 3",
   "language": "python",
   "name": "python3"
  },
  "language_info": {
   "codemirror_mode": {
    "name": "ipython",
    "version": 3
   },
   "file_extension": ".py",
   "mimetype": "text/x-python",
   "name": "python",
   "nbconvert_exporter": "python",
   "pygments_lexer": "ipython3",
   "version": "3.7.3"
  },
  "varInspector": {
   "cols": {
    "lenName": 16,
    "lenType": 16,
    "lenVar": 40
   },
   "kernels_config": {
    "python": {
     "delete_cmd_postfix": "",
     "delete_cmd_prefix": "del ",
     "library": "var_list.py",
     "varRefreshCmd": "print(var_dic_list())"
    },
    "r": {
     "delete_cmd_postfix": ") ",
     "delete_cmd_prefix": "rm(",
     "library": "var_list.r",
     "varRefreshCmd": "cat(var_dic_list()) "
    }
   },
   "types_to_exclude": [
    "module",
    "function",
    "builtin_function_or_method",
    "instance",
    "_Feature"
   ],
   "window_display": false
  }
 },
 "nbformat": 4,
 "nbformat_minor": 2
}
