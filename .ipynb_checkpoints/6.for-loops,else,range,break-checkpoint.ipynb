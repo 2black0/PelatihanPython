{
 "cells": [
  {
   "cell_type": "markdown",
   "metadata": {},
   "source": [
    "# For loops, else, break, range"
   ]
  },
  {
   "cell_type": "code",
   "execution_count": 6,
   "metadata": {},
   "outputs": [
    {
     "name": "stdout",
     "output_type": "stream",
     "text": [
      "0\n",
      "angka tidak ditemukan\n",
      "1\n",
      "angka tidak ditemukan\n",
      "2\n",
      "angka tidak ditemukan\n",
      "3\n",
      "angka tidak ditemukan\n",
      "4\n",
      "angka tidak ditemukan\n",
      "5\n",
      "angka tidak ditemukan\n",
      "6\n",
      "angka tidak ditemukan\n",
      "7\n",
      "angka tidak ditemukan\n",
      "8\n",
      "angka tidak ditemukan\n",
      "9\n",
      "angka tidak ditemukan\n",
      "10\n",
      "angka tidak ditemukan\n",
      "11\n",
      "angka tidak ditemukan\n",
      "12\n",
      "angka tidak ditemukan\n",
      "13\n",
      "angka tidak ditemukan\n",
      "14\n",
      "angka tidak ditemukan\n",
      "15\n",
      "angka tidak ditemukan\n",
      "16\n",
      "angka tidak ditemukan\n",
      "17\n",
      "angka tidak ditemukan\n",
      "18\n",
      "angka tidak ditemukan\n",
      "19\n",
      "angka tidak ditemukan\n",
      "20\n",
      "angka tidak ditemukan\n",
      "21\n",
      "angka tidak ditemukan\n",
      "22\n",
      "angka tidak ditemukan\n",
      "23\n",
      "angka tidak ditemukan\n",
      "24\n",
      "angka tidak ditemukan\n",
      "25\n",
      "angka tidak ditemukan\n",
      "26\n",
      "angka tidak ditemukan\n",
      "27\n",
      "angka tidak ditemukan\n",
      "28\n",
      "angka tidak ditemukan\n",
      "29\n",
      "angka tidak ditemukan\n",
      "30\n",
      "angka tidak ditemukan\n",
      "31\n",
      "angka tidak ditemukan\n",
      "32\n",
      "angka tidak ditemukan\n",
      "33\n",
      "angka tidak ditemukan\n",
      "34\n",
      "angka tidak ditemukan\n",
      "35\n",
      "angka tidak ditemukan\n",
      "36\n",
      "angka tidak ditemukan\n",
      "37\n",
      "angka tidak ditemukan\n",
      "38\n",
      "angka tidak ditemukan\n",
      "39\n",
      "angka tidak ditemukan\n",
      "space di luar for\n"
     ]
    }
   ],
   "source": [
    "number = 100;\n",
    "\n",
    "for i in range(0,40):\n",
    "    print(i)\n",
    "\n",
    "    if i is number:\n",
    "        print('angka ditemukan',i)\n",
    "        break\n",
    "    else:\n",
    "        print('angka tidak ditemukan')\n",
    "\n",
    "print(\"space di luar for\")"
   ]
  },
  {
   "cell_type": "code",
   "execution_count": null,
   "metadata": {},
   "outputs": [],
   "source": []
  }
 ],
 "metadata": {
  "kernelspec": {
   "display_name": "Python 3",
   "language": "python",
   "name": "python3"
  },
  "language_info": {
   "codemirror_mode": {
    "name": "ipython",
    "version": 3
   },
   "file_extension": ".py",
   "mimetype": "text/x-python",
   "name": "python",
   "nbconvert_exporter": "python",
   "pygments_lexer": "ipython3",
   "version": "3.7.3"
  },
  "varInspector": {
   "cols": {
    "lenName": 16,
    "lenType": 16,
    "lenVar": 40
   },
   "kernels_config": {
    "python": {
     "delete_cmd_postfix": "",
     "delete_cmd_prefix": "del ",
     "library": "var_list.py",
     "varRefreshCmd": "print(var_dic_list())"
    },
    "r": {
     "delete_cmd_postfix": ") ",
     "delete_cmd_prefix": "rm(",
     "library": "var_list.r",
     "varRefreshCmd": "cat(var_dic_list()) "
    }
   },
   "types_to_exclude": [
    "module",
    "function",
    "builtin_function_or_method",
    "instance",
    "_Feature"
   ],
   "window_display": false
  }
 },
 "nbformat": 4,
 "nbformat_minor": 2
}
