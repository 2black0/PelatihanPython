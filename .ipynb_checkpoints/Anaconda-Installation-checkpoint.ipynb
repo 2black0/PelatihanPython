{
 "cells": [
  {
   "cell_type": "markdown",
   "metadata": {},
   "source": [
    "# Anaconda and Jupyter Notebook"
   ]
  },
  {
   "cell_type": "markdown",
   "metadata": {},
   "source": [
    "## Anaconda\n",
    "> Anaconda is a free and open-source distribution of the Python and R programming languages for scientific computing (data science, machine learning applications, large-scale data processing, predictive analytics, etc.), that aims to simplify package management and deployment. Package versions are managed by the package management system conda. The Anaconda distribution is used by over 13 million users and includes more than 1400 popular data-science packages suitable for Windows, Linux, and MacOS.([Source](https://en.wikipedia.org/wiki/Anaconda_(Python_distribution)))\n",
    "<img src=\"image/anaconda.png\" width=\"300\" />\n",
    "\n",
    "## Jupyter Notebook\n",
    "> The Jupyter Notebook is an open-source web application that allows you to create and share documents that contain live code, equations, visualizations and narrative text. Uses include: data cleaning and transformation, numerical simulation, statistical modeling, data visualization, machine learning, and much more. ([Source](https://jupyter.org/))\n",
    "<img src=\"image/jupyter.png\" width=\"300\" />\n"
   ]
  },
  {
   "cell_type": "markdown",
   "metadata": {},
   "source": [
    "# Preparation\n",
    "\n",
    "### > Hardware\n",
    "\n",
    "* CPU: 32-bit or 64-bit\n",
    "* Storage: 3 GB\n",
    "\n",
    "### > Software\n",
    "\n",
    "1. **Browser** :\n",
    "    * Google Chrome (Download : https://www.google.com/chrome/)\n",
    "    * Firefox (Download : https://www.mozilla.org/en-US/firefox/)\n",
    "    * Microsoft Edge (Native browser for Windows)\n",
    "    * Safari ( Native browser for Mac OS)\n",
    "    * Opera ( Download : https://www.opera.com/)\n",
    "    * Or other your favourite browser\n",
    "\n",
    "\n",
    "2. **Anaconda**\n",
    "    * Windows : https://repo.anaconda.com/archive/Anaconda3-2019.03-Windows-x86_64.exe\n",
    "    * Mac OS : https://repo.anaconda.com/archive/Anaconda3-2019.03-MacOSX-x86_64.pkg\n",
    "    * Linux : https://repo.anaconda.com/archive/Anaconda3-2019.03-Linux-x86_64.sh"
   ]
  },
  {
   "cell_type": "markdown",
   "metadata": {},
   "source": [
    "### Anaconda Installation\n",
    "\n",
    "1. **Windows**\n",
    "> Tutorial Link : https://docs.anaconda.com/anaconda/install/windows/\n",
    "\n",
    "2. **Mac OS**\n",
    "> Tutorial Link : https://docs.anaconda.com/anaconda/install/mac-os/\n",
    "\n",
    "3. **Linux**\n",
    "> Tutorial Link : https://docs.anaconda.com/anaconda/install/linux/\n"
   ]
  },
  {
   "cell_type": "markdown",
   "metadata": {},
   "source": [
    "### Open Jupyter Notebook (Windows)\n",
    "\n",
    "<img src=\"image/jupyter-start.png\" />"
   ]
  },
  {
   "cell_type": "markdown",
   "metadata": {},
   "source": [
    "<img src=\"image/jupyter-homepage.png\" />"
   ]
  },
  {
   "cell_type": "markdown",
   "metadata": {},
   "source": [
    "# Jupyter operation\n",
    "\n",
    "## Create new notebook file\n",
    "<img src=\"image/new-notebook.png\" />"
   ]
  },
  {
   "cell_type": "markdown",
   "metadata": {},
   "source": [
    "<img src=\"image/jupyter-cell.png\" />"
   ]
  }
 ],
 "metadata": {
  "kernelspec": {
   "display_name": "Python 3",
   "language": "python",
   "name": "python3"
  },
  "language_info": {
   "codemirror_mode": {
    "name": "ipython",
    "version": 3
   },
   "file_extension": ".py",
   "mimetype": "text/x-python",
   "name": "python",
   "nbconvert_exporter": "python",
   "pygments_lexer": "ipython3",
   "version": "3.7.3"
  },
  "varInspector": {
   "cols": {
    "lenName": 16,
    "lenType": 16,
    "lenVar": 40
   },
   "kernels_config": {
    "python": {
     "delete_cmd_postfix": "",
     "delete_cmd_prefix": "del ",
     "library": "var_list.py",
     "varRefreshCmd": "print(var_dic_list())"
    },
    "r": {
     "delete_cmd_postfix": ") ",
     "delete_cmd_prefix": "rm(",
     "library": "var_list.r",
     "varRefreshCmd": "cat(var_dic_list()) "
    }
   },
   "types_to_exclude": [
    "module",
    "function",
    "builtin_function_or_method",
    "instance",
    "_Feature"
   ],
   "window_display": false
  }
 },
 "nbformat": 4,
 "nbformat_minor": 2
}
